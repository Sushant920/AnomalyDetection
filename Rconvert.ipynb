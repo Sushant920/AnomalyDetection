{
 "cells": [
  {
   "cell_type": "code",
   "execution_count": 1,
   "metadata": {},
   "outputs": [],
   "source": [
    "import argparse\n",
    "import pyreadr\n",
    "import pandas as pd\n",
    "from pathlib import Path"
   ]
  },
  {
   "cell_type": "code",
   "execution_count": 2,
   "metadata": {},
   "outputs": [],
   "source": [
    "def convert_rdata_to_csv(input_path, output_dir):\n",
    "    \"\"\"\n",
    "    Convert all data frames in an RData file to CSV format\n",
    "    \n",
    "    Args:\n",
    "        input_path (str): Path to input .RData file\n",
    "        output_dir (str): Directory to save CSV files\n",
    "    \"\"\"\n",
    "    # Read RData file\n",
    "    result = pyreadr.read_r(input_path)\n",
    "    \n",
    "    # Create output directory\n",
    "    output_path = Path(output_dir)\n",
    "    output_path.mkdir(parents=True, exist_ok=True)\n",
    "    \n",
    "    # Convert each object to CSV\n",
    "    for obj_name, data in result.items():\n",
    "        if isinstance(data, pd.DataFrame):\n",
    "            csv_path = output_path / f\"{obj_name if obj_name else 'unnamed'}.csv\"\n",
    "            data.to_csv(csv_path, index=False)\n",
    "            print(f\"✅ Saved {len(data):,} rows to {csv_path}\")\n",
    "        else:\n",
    "            print(f\"⚠️  Skipped non-dataframe object: {obj_name} ({type(data).__name__})\")"
   ]
  },
  {
   "cell_type": "code",
   "execution_count": 3,
   "metadata": {},
   "outputs": [
    {
     "name": "stdout",
     "output_type": "stream",
     "text": [
      "✅ Saved 9,600,000 rows to data/faulty_testing.csv\n"
     ]
    }
   ],
   "source": [
    "if __name__ == \"__main__\":\n",
    "    # Hardcoded file paths (EDIT THESE VALUES)\n",
    "    input_rdata = \"data/TEP_Faulty_Testing.RData\"\n",
    "    output_directory = \"data/\"\n",
    "    \n",
    "    # Perform conversion\n",
    "    convert_rdata_to_csv(input_rdata, output_directory)"
   ]
  }
 ],
 "metadata": {
  "kernelspec": {
   "display_name": "tensorflow-gpu",
   "language": "python",
   "name": "python3"
  },
  "language_info": {
   "codemirror_mode": {
    "name": "ipython",
    "version": 3
   },
   "file_extension": ".py",
   "mimetype": "text/x-python",
   "name": "python",
   "nbconvert_exporter": "python",
   "pygments_lexer": "ipython3",
   "version": "3.11.9"
  }
 },
 "nbformat": 4,
 "nbformat_minor": 2
}
